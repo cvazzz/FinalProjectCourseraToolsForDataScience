{
  "metadata": {
    "kernelspec": {
      "name": "python",
      "display_name": "Python (Pyodide)",
      "language": "python"
    },
    "language_info": {
      "codemirror_mode": {
        "name": "python",
        "version": 3
      },
      "file_extension": ".py",
      "mimetype": "text/x-python",
      "name": "python",
      "nbconvert_exporter": "python",
      "pygments_lexer": "ipython3",
      "version": "3.8"
    }
  },
  "nbformat_minor": 4,
  "nbformat": 4,
  "cells": [
    {
      "cell_type": "markdown",
      "source": "Final Project",
      "metadata": {}
    },
    {
      "cell_type": "markdown",
      "source": "## Introduction\r\n\r\nThiprojectok explores fundamental concepts and tools in data science, designed to provide a clear and practical overview of its applications.\r\n",
      "metadata": {}
    },
    {
      "cell_type": "markdown",
      "source": "### Data Science Languages\r\n\r\n1. Python\r\n2. R\r\n3. SQL\r\n4. Java\r\n5. Scala\r\n",
      "metadata": {}
    },
    {
      "cell_type": "markdown",
      "source": "### Data Science Libraries\r\n\r\n- Pandas: Data manipulation.\r\n- Numpy: Mathematical operations.\r\n- Scikit-learn: Machine Learning.\r\n- Matplotlib: Data visualization.\r\n- TensorFlow: Deep Learning.\r\nos.\n- Numpy: Operaciones matemáticas.\n- Scikit-learn: Machine Learning.\n- Matplotlib: Visualización de datos.\n- TensorFlow: Deep Learning.\n",
      "metadata": {}
    },
    {
      "cell_type": "markdown",
      "source": "### Data Science Tools\r\n\r\n| Tool         | Use                                |\r\n|--------------|------------------------------------|\r\n| Jupyter      | Notebook creation and sharing      |\r\n| Tableau      | Data visualization                 |\r\n| MySQL        | Database management                |\r\n| TensorFlow   | Deep Learning                      |\r\n| Git          | Version control                    |\r\n\n",
      "metadata": {}
    },
    {
      "cell_type": "markdown",
      "source": "### Arithmetic Expressions\r\n\r\nIn programming, we use arithmetic expressions to perform calculations. Common examples include addition `+`, subtraction `-`, multiplication `*`, and division `/`.\r\n\n",
      "metadata": {}
    },
    {
      "cell_type": "code",
      "source": "# Multiplicación y suma de números\na = 5\nb = 3\nproducto = a * b\nsuma = a + b\n\nprint(\"Producto:\", producto)\nprint(\"Suma:\", suma)\n",
      "metadata": {
        "trusted": true
      },
      "outputs": [
        {
          "name": "stdout",
          "text": "Producto: 15\nSuma: 8\n",
          "output_type": "stream"
        }
      ],
      "execution_count": 1
    },
    {
      "cell_type": "code",
      "source": "# Conversión de minutos a horas\nminutos = 120\nhoras = minutos / 60\n\nprint(horas, \"horas\")\n",
      "metadata": {
        "trusted": true
      },
      "outputs": [
        {
          "name": "stdout",
          "text": "2.0 horas\n",
          "output_type": "stream"
        }
      ],
      "execution_count": 2
    },
    {
      "cell_type": "code",
      "source": "# Lista de objetivos\nobjetivos = [\"Aprender Python\", \"Comprender estadísticas\", \"Aplicar machine learning\", \"Visualizar datos\"]\nprint(\"Objetivos:\")\nfor objetivo in objetivos:\n    print(\"-\", objetivo)\n",
      "metadata": {
        "trusted": true
      },
      "outputs": [
        {
          "name": "stdout",
          "text": "Objetivos:\n- Aprender Python\n- Comprender estadísticas\n- Aplicar machine learning\n- Visualizar datos\n",
          "output_type": "stream"
        }
      ],
      "execution_count": 3
    },
    {
      "cell_type": "markdown",
      "source": "### Autor\r\n\r\n**Nombre del Autor**Sergio Sebastian Alessio Atanacio Floresez\r\n",
      "metadata": {}
    }
  ]
}